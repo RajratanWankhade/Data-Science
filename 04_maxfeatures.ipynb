{
 "cells": [
  {
   "cell_type": "code",
   "execution_count": 1,
   "id": "720ce8b8",
   "metadata": {},
   "outputs": [
    {
     "name": "stderr",
     "output_type": "stream",
     "text": [
      "2025/07/28 12:40:58 INFO mlflow.tracking.fluent: Experiment with name 'Exp 3 - TfIdf Trigram max_features' does not exist. Creating a new experiment.\n"
     ]
    },
    {
     "data": {
      "text/plain": [
       "<Experiment: artifact_location='s3://mlflow-s3-raj/260194964391498970', creation_time=1753699258872, experiment_id='260194964391498970', last_update_time=1753699258872, lifecycle_stage='active', name='Exp 3 - TfIdf Trigram max_features', tags={}>"
      ]
     },
     "execution_count": 1,
     "metadata": {},
     "output_type": "execute_result"
    }
   ],
   "source": [
    "import mlflow\n",
    "# Step 2: Set up the MLflow tracking server\n",
    "mlflow.set_tracking_uri(\"http://ec2-16-16-185-18.eu-north-1.compute.amazonaws.com:5000/\")\n",
    "mlflow.set_experiment(\"Exp 3 - TfIdf Trigram max_features\")"
   ]
  },
  {
   "cell_type": "code",
   "execution_count": 2,
   "id": "47b3f5bc",
   "metadata": {},
   "outputs": [],
   "source": [
    "\n",
    "from sklearn.feature_extraction.text import TfidfVectorizer\n",
    "from sklearn.ensemble import RandomForestClassifier\n",
    "from sklearn.model_selection import train_test_split\n",
    "from sklearn.metrics import accuracy_score, classification_report, confusion_matrix\n",
    "import mlflow\n",
    "import mlflow.sklearn\n",
    "import matplotlib.pyplot as plt\n",
    "import seaborn as sns\n",
    "import pandas as pd\n",
    "import os"
   ]
  },
  {
   "cell_type": "code",
   "execution_count": 3,
   "id": "36d7d2d9",
   "metadata": {},
   "outputs": [
    {
     "data": {
      "text/plain": [
       "(36662, 2)"
      ]
     },
     "execution_count": 3,
     "metadata": {},
     "output_type": "execute_result"
    }
   ],
   "source": [
    "\n",
    "df = pd.read_csv('reddit_preprocessing.csv').dropna(subset=['clean_comment'])\n",
    "df.shape"
   ]
  },
  {
   "cell_type": "code",
   "execution_count": 4,
   "id": "f9155b8f",
   "metadata": {},
   "outputs": [
    {
     "name": "stderr",
     "output_type": "stream",
     "text": [
      "2025/07/28 12:41:20 WARNING mlflow.models.model: `artifact_path` is deprecated. Please use `name` instead.\n",
      "\u001b[31m2025/07/28 12:41:27 WARNING mlflow.models.model: Model logged without a signature and input example. Please set `input_example` parameter when logging the model to auto infer the model signature.\u001b[0m\n"
     ]
    },
    {
     "name": "stdout",
     "output_type": "stream",
     "text": [
      "🏃 View run TFIDF_Trigrams_max_features_1000 at: http://ec2-16-16-185-18.eu-north-1.compute.amazonaws.com:5000/#/experiments/260194964391498970/runs/3d8507d358ae4663bca2ff3a3bb61d7c\n",
      "🧪 View experiment at: http://ec2-16-16-185-18.eu-north-1.compute.amazonaws.com:5000/#/experiments/260194964391498970\n"
     ]
    },
    {
     "name": "stderr",
     "output_type": "stream",
     "text": [
      "2025/07/28 12:41:52 WARNING mlflow.models.model: `artifact_path` is deprecated. Please use `name` instead.\n",
      "\u001b[31m2025/07/28 12:41:59 WARNING mlflow.models.model: Model logged without a signature and input example. Please set `input_example` parameter when logging the model to auto infer the model signature.\u001b[0m\n"
     ]
    },
    {
     "name": "stdout",
     "output_type": "stream",
     "text": [
      "🏃 View run TFIDF_Trigrams_max_features_2000 at: http://ec2-16-16-185-18.eu-north-1.compute.amazonaws.com:5000/#/experiments/260194964391498970/runs/a5635acd819d41839535faa72108a81e\n",
      "🧪 View experiment at: http://ec2-16-16-185-18.eu-north-1.compute.amazonaws.com:5000/#/experiments/260194964391498970\n"
     ]
    },
    {
     "name": "stderr",
     "output_type": "stream",
     "text": [
      "2025/07/28 12:42:23 WARNING mlflow.models.model: `artifact_path` is deprecated. Please use `name` instead.\n",
      "\u001b[31m2025/07/28 12:42:29 WARNING mlflow.models.model: Model logged without a signature and input example. Please set `input_example` parameter when logging the model to auto infer the model signature.\u001b[0m\n"
     ]
    },
    {
     "name": "stdout",
     "output_type": "stream",
     "text": [
      "🏃 View run TFIDF_Trigrams_max_features_3000 at: http://ec2-16-16-185-18.eu-north-1.compute.amazonaws.com:5000/#/experiments/260194964391498970/runs/e30da8514e1347bf864166adeab834e9\n",
      "🧪 View experiment at: http://ec2-16-16-185-18.eu-north-1.compute.amazonaws.com:5000/#/experiments/260194964391498970\n"
     ]
    },
    {
     "name": "stderr",
     "output_type": "stream",
     "text": [
      "2025/07/28 12:42:51 WARNING mlflow.models.model: `artifact_path` is deprecated. Please use `name` instead.\n",
      "\u001b[31m2025/07/28 12:42:55 WARNING mlflow.models.model: Model logged without a signature and input example. Please set `input_example` parameter when logging the model to auto infer the model signature.\u001b[0m\n"
     ]
    },
    {
     "name": "stdout",
     "output_type": "stream",
     "text": [
      "🏃 View run TFIDF_Trigrams_max_features_4000 at: http://ec2-16-16-185-18.eu-north-1.compute.amazonaws.com:5000/#/experiments/260194964391498970/runs/ea6b923c9d124a2092398db7f7dd66a4\n",
      "🧪 View experiment at: http://ec2-16-16-185-18.eu-north-1.compute.amazonaws.com:5000/#/experiments/260194964391498970\n"
     ]
    },
    {
     "name": "stderr",
     "output_type": "stream",
     "text": [
      "2025/07/28 12:43:17 WARNING mlflow.models.model: `artifact_path` is deprecated. Please use `name` instead.\n",
      "\u001b[31m2025/07/28 12:43:21 WARNING mlflow.models.model: Model logged without a signature and input example. Please set `input_example` parameter when logging the model to auto infer the model signature.\u001b[0m\n"
     ]
    },
    {
     "name": "stdout",
     "output_type": "stream",
     "text": [
      "🏃 View run TFIDF_Trigrams_max_features_5000 at: http://ec2-16-16-185-18.eu-north-1.compute.amazonaws.com:5000/#/experiments/260194964391498970/runs/d33e05c8fff945318c7ce30583dd998f\n",
      "🧪 View experiment at: http://ec2-16-16-185-18.eu-north-1.compute.amazonaws.com:5000/#/experiments/260194964391498970\n"
     ]
    },
    {
     "name": "stderr",
     "output_type": "stream",
     "text": [
      "2025/07/28 12:43:44 WARNING mlflow.models.model: `artifact_path` is deprecated. Please use `name` instead.\n",
      "\u001b[31m2025/07/28 12:43:49 WARNING mlflow.models.model: Model logged without a signature and input example. Please set `input_example` parameter when logging the model to auto infer the model signature.\u001b[0m\n"
     ]
    },
    {
     "name": "stdout",
     "output_type": "stream",
     "text": [
      "🏃 View run TFIDF_Trigrams_max_features_6000 at: http://ec2-16-16-185-18.eu-north-1.compute.amazonaws.com:5000/#/experiments/260194964391498970/runs/3841ff04ba3b4ea0ad443dee3a3187fc\n",
      "🧪 View experiment at: http://ec2-16-16-185-18.eu-north-1.compute.amazonaws.com:5000/#/experiments/260194964391498970\n"
     ]
    },
    {
     "name": "stderr",
     "output_type": "stream",
     "text": [
      "2025/07/28 12:44:13 WARNING mlflow.models.model: `artifact_path` is deprecated. Please use `name` instead.\n",
      "\u001b[31m2025/07/28 12:44:18 WARNING mlflow.models.model: Model logged without a signature and input example. Please set `input_example` parameter when logging the model to auto infer the model signature.\u001b[0m\n"
     ]
    },
    {
     "name": "stdout",
     "output_type": "stream",
     "text": [
      "🏃 View run TFIDF_Trigrams_max_features_7000 at: http://ec2-16-16-185-18.eu-north-1.compute.amazonaws.com:5000/#/experiments/260194964391498970/runs/87f5e26000c64d2db0776a81660d73b7\n",
      "🧪 View experiment at: http://ec2-16-16-185-18.eu-north-1.compute.amazonaws.com:5000/#/experiments/260194964391498970\n"
     ]
    },
    {
     "name": "stderr",
     "output_type": "stream",
     "text": [
      "2025/07/28 12:44:42 WARNING mlflow.models.model: `artifact_path` is deprecated. Please use `name` instead.\n",
      "\u001b[31m2025/07/28 12:44:47 WARNING mlflow.models.model: Model logged without a signature and input example. Please set `input_example` parameter when logging the model to auto infer the model signature.\u001b[0m\n"
     ]
    },
    {
     "name": "stdout",
     "output_type": "stream",
     "text": [
      "🏃 View run TFIDF_Trigrams_max_features_8000 at: http://ec2-16-16-185-18.eu-north-1.compute.amazonaws.com:5000/#/experiments/260194964391498970/runs/ae34ed0bcff440e6afa57de0085e46d5\n",
      "🧪 View experiment at: http://ec2-16-16-185-18.eu-north-1.compute.amazonaws.com:5000/#/experiments/260194964391498970\n"
     ]
    },
    {
     "name": "stderr",
     "output_type": "stream",
     "text": [
      "2025/07/28 12:45:10 WARNING mlflow.models.model: `artifact_path` is deprecated. Please use `name` instead.\n",
      "\u001b[31m2025/07/28 12:45:16 WARNING mlflow.models.model: Model logged without a signature and input example. Please set `input_example` parameter when logging the model to auto infer the model signature.\u001b[0m\n"
     ]
    },
    {
     "name": "stdout",
     "output_type": "stream",
     "text": [
      "🏃 View run TFIDF_Trigrams_max_features_9000 at: http://ec2-16-16-185-18.eu-north-1.compute.amazonaws.com:5000/#/experiments/260194964391498970/runs/4be33048d25d4bb4a0d1a0b0f8a9ac59\n",
      "🧪 View experiment at: http://ec2-16-16-185-18.eu-north-1.compute.amazonaws.com:5000/#/experiments/260194964391498970\n"
     ]
    },
    {
     "name": "stderr",
     "output_type": "stream",
     "text": [
      "2025/07/28 12:45:42 WARNING mlflow.models.model: `artifact_path` is deprecated. Please use `name` instead.\n",
      "\u001b[31m2025/07/28 12:45:47 WARNING mlflow.models.model: Model logged without a signature and input example. Please set `input_example` parameter when logging the model to auto infer the model signature.\u001b[0m\n"
     ]
    },
    {
     "name": "stdout",
     "output_type": "stream",
     "text": [
      "🏃 View run TFIDF_Trigrams_max_features_10000 at: http://ec2-16-16-185-18.eu-north-1.compute.amazonaws.com:5000/#/experiments/260194964391498970/runs/53c625876e0f4f1496437a37fb54fe5d\n",
      "🧪 View experiment at: http://ec2-16-16-185-18.eu-north-1.compute.amazonaws.com:5000/#/experiments/260194964391498970\n"
     ]
    }
   ],
   "source": [
    "# Step 1: Function to run the experiment\n",
    "def run_experiment_tfidf_max_features(max_features):\n",
    "    ngram_range = (1, 3)  # Trigram setting\n",
    "\n",
    "    # Step 2: Vectorization using TF-IDF with varying max_features\n",
    "    vectorizer = TfidfVectorizer(ngram_range=ngram_range, max_features=max_features)\n",
    "\n",
    "    X_train, X_test, y_train, y_test = train_test_split(df['clean_comment'], df['category'], test_size=0.2, random_state=42, stratify=df['category'])\n",
    "\n",
    "    X_train = vectorizer.fit_transform(X_train)\n",
    "    X_test = vectorizer.transform(X_test)\n",
    "\n",
    "    # Step 4: Define and train a Random Forest model\n",
    "    with mlflow.start_run() as run:\n",
    "        # Set tags for the experiment and run\n",
    "        mlflow.set_tag(\"mlflow.runName\", f\"TFIDF_Trigrams_max_features_{max_features}\")\n",
    "        mlflow.set_tag(\"experiment_type\", \"feature_engineering\")\n",
    "        mlflow.set_tag(\"model_type\", \"RandomForestClassifier\")\n",
    "\n",
    "        # Add a description\n",
    "        mlflow.set_tag(\"description\", f\"RandomForest with TF-IDF Trigrams, max_features={max_features}\")\n",
    "\n",
    "        # Log vectorizer parameters\n",
    "        mlflow.log_param(\"vectorizer_type\", \"TF-IDF\")\n",
    "        mlflow.log_param(\"ngram_range\", ngram_range)\n",
    "        mlflow.log_param(\"vectorizer_max_features\", max_features)\n",
    "\n",
    "        # Log Random Forest parameters\n",
    "        n_estimators = 200\n",
    "        max_depth = 15\n",
    "\n",
    "        mlflow.log_param(\"n_estimators\", n_estimators)\n",
    "        mlflow.log_param(\"max_depth\", max_depth)\n",
    "\n",
    "        # Initialize and train the model\n",
    "        model = RandomForestClassifier(n_estimators=n_estimators, max_depth=max_depth, random_state=42)\n",
    "        model.fit(X_train, y_train)\n",
    "\n",
    "        # Step 5: Make predictions and log metrics\n",
    "        y_pred = model.predict(X_test)\n",
    "\n",
    "        # Log accuracy\n",
    "        accuracy = accuracy_score(y_test, y_pred)\n",
    "        mlflow.log_metric(\"accuracy\", accuracy)\n",
    "\n",
    "        # Log classification report\n",
    "        classification_rep = classification_report(y_test, y_pred, output_dict=True)\n",
    "        for label, metrics in classification_rep.items():\n",
    "            if isinstance(metrics, dict):\n",
    "                for metric, value in metrics.items():\n",
    "                    mlflow.log_metric(f\"{label}_{metric}\", value)\n",
    "\n",
    "        # Log confusion matrix\n",
    "        conf_matrix = confusion_matrix(y_test, y_pred)\n",
    "        plt.figure(figsize=(8, 6))\n",
    "        sns.heatmap(conf_matrix, annot=True, fmt=\"d\", cmap=\"Blues\")\n",
    "        plt.xlabel(\"Predicted\")\n",
    "        plt.ylabel(\"Actual\")\n",
    "        plt.title(f\"Confusion Matrix: TF-IDF Trigrams, max_features={max_features}\")\n",
    "        plt.savefig(\"confusion_matrix.png\")\n",
    "        mlflow.log_artifact(\"confusion_matrix.png\")\n",
    "        plt.close()\n",
    "\n",
    "        # Log the model\n",
    "        mlflow.sklearn.log_model(model, f\"random_forest_model_tfidf_trigrams_{max_features}\")\n",
    "\n",
    "# Step 6: Test various max_features values\n",
    "max_features_values = [1000, 2000, 3000, 4000, 5000, 6000, 7000, 8000, 9000, 10000]\n",
    "\n",
    "for max_features in max_features_values:\n",
    "    run_experiment_tfidf_max_features(max_features)"
   ]
  }
 ],
 "metadata": {
  "kernelspec": {
   "display_name": "restapi",
   "language": "python",
   "name": "python3"
  },
  "language_info": {
   "codemirror_mode": {
    "name": "ipython",
    "version": 3
   },
   "file_extension": ".py",
   "mimetype": "text/x-python",
   "name": "python",
   "nbconvert_exporter": "python",
   "pygments_lexer": "ipython3",
   "version": "3.11.13"
  }
 },
 "nbformat": 4,
 "nbformat_minor": 5
}
